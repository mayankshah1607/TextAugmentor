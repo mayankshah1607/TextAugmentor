{
 "cells": [
  {
   "cell_type": "markdown",
   "metadata": {},
   "source": [
    "# TextAugmentor tutorial and examples"
   ]
  },
  {
   "cell_type": "code",
   "execution_count": 1,
   "metadata": {
    "collapsed": true
   },
   "outputs": [],
   "source": [
    "import TextAugmentor as ta"
   ]
  },
  {
   "cell_type": "code",
   "execution_count": 2,
   "metadata": {
    "collapsed": true
   },
   "outputs": [],
   "source": [
    "sentence = \"Today the weather was really beautiful\" #The sentence we want to augment"
   ]
  },
  {
   "cell_type": "code",
   "execution_count": 3,
   "metadata": {},
   "outputs": [],
   "source": [
    "augmentor = ta.TextAugmentor(sentence) #Create a TextAugmentor object out of this sentence"
   ]
  },
  {
   "cell_type": "code",
   "execution_count": 4,
   "metadata": {
    "collapsed": true
   },
   "outputs": [],
   "source": [
    "augmentor.GenerateSentences() #Call the GenerateSentences() function on the object to augment the input sentence"
   ]
  },
  {
   "cell_type": "code",
   "execution_count": 5,
   "metadata": {},
   "outputs": [
    {
     "name": "stdout",
     "output_type": "stream",
     "text": [
      "Today the climate was really beautiful\n",
      "Today the weather was absolutely beautiful\n",
      "Today the weather was actually beautiful\n",
      "Today the weather was certainly beautiful\n",
      "Today the weather was easily beautiful\n",
      "Today the weather was really alluring\n",
      "Today the weather was really appealing\n",
      "Today the weather was really charming\n",
      "Today the weather was really cute\n"
     ]
    }
   ],
   "source": [
    "for i in augmentor.generated_sentences:\n",
    "    print(i)"
   ]
  }
 ],
 "metadata": {
  "kernelspec": {
   "display_name": "Python 3",
   "language": "python",
   "name": "python3"
  },
  "language_info": {
   "codemirror_mode": {
    "name": "ipython",
    "version": 3
   },
   "file_extension": ".py",
   "mimetype": "text/x-python",
   "name": "python",
   "nbconvert_exporter": "python",
   "pygments_lexer": "ipython3",
   "version": "3.5.4"
  }
 },
 "nbformat": 4,
 "nbformat_minor": 2
}
